{
  "nbformat": 4,
  "nbformat_minor": 0,
  "metadata": {
    "colab": {
      "provenance": [],
      "collapsed_sections": [
        "Kyaw0XST08TG"
      ]
    },
    "kernelspec": {
      "name": "python3",
      "display_name": "Python 3"
    },
    "language_info": {
      "name": "python"
    }
  },
  "cells": [
    {
      "cell_type": "markdown",
      "source": [
        "#Data Structure"
      ],
      "metadata": {
        "id": "Kyaw0XST08TG"
      }
    },
    {
      "cell_type": "markdown",
      "source": [
        "### Q1. What are data structures, and why are they important?\n",
        "  - Data structures are ways to organize and store data efficiently. They help in optimizing performance and memory usage and are essential for solving real-world programming problems effectively.\n",
        "\n",
        "### Q2. Explain the difference between mutable and immutable data types with examples.\n",
        "  - Mutable data types can be changed after creation (e.g., list, dict, set).\n",
        "  - Immutable data types cannot be altered once created (e.g., int, str, tuple).\n",
        " - my_list = [1, 2]; my_list[0] = 5  # Valid (mutable)  \n",
        " -my_str = \"hello\"; my_str[0] = \"H\"  # Error (immutable)\n",
        "\n",
        "\n",
        "### Q3. What are the main differences between lists and tuples in Python?\n",
        "  - Lists are mutable, while tuples are immutable.\n",
        "  - Lists use square brackets [ ], tuples use parentheses ( ).\n",
        "  -Lists are slower but flexible; tuples are faster and used for fixed data.\n",
        "\n",
        "### Q4. Describe how dictionaries store data.\n",
        "  - Dictionaries use key-value pairs and store them in a hash table. Keys are hashed, and the values are placed at corresponding hash indices, enabling fast retrieval.\n",
        "\n",
        "### Q5. Why might you use a set instead of a list in Python?\n",
        "  - Sets automatically remove duplicates and offer faster membership testing (in) compared to lists.\n",
        "\n",
        "### Q6. What is a string in Python, and how is it different from a list?\n",
        "  - A string is an immutable sequence of characters.\n",
        "  -A list is mutable and can store any data type.\n",
        "Example: You can change list elements, but not string characters.\n",
        "\n",
        "### Q7. How do tuples ensure data integrity in Python?\n",
        "  - Tuples are immutable, meaning once created, their values can’t be changed. This prevents accidental data modification and helps maintain consistency.\n",
        "\n",
        "### Q8. What is a hash table, and how does it relate to dictionaries in Python?\n",
        "  - A hash table is a data structure that maps keys to values using a hash function.\n",
        "  - Python dictionaries use hash tables for fast key-based access.\n",
        "\n",
        "### Q9. Can lists contain different data types in Python?\n",
        "    - Yes, Python lists can store elements of different types like integers, strings, floats, or even other lists.\n",
        "\n",
        "### Q10. Explain why strings are immutable in Python.\n",
        "  - Strings are immutable for performance, memory efficiency, and security. Modifying a string creates a new object rather than changing the original one.\n",
        "\n",
        "### Q11. What advantages do dictionaries offer over lists for certain tasks?\n",
        "  - Dictionaries provide faster access via keys (O(1)) compared to searching by value in lists (O(n)). They’re ideal for structured, labeled data.\n",
        "\n",
        "### Q12. Describe a scenario where using a tuple would be preferable over a list.\n",
        "  - When you need a fixed set of values, like coordinates (x, y) or days of the week. Tuples prevent unintended modifications.\n",
        "\n",
        "### Q13. How do sets handle duplicate values in Python?\n",
        "  - Sets automatically eliminate duplicate entries.\n",
        "\n",
        "### Q14. How does the in keyword work differently for lists and dictionaries?\n",
        "  - In lists, in checks if a value exists.\n",
        "  - In dictionaries, in checks for the existence of a key.\n",
        "\n",
        "### Q15. Can you modify the elements of a tuple? Explain why or why not.\n",
        "  - No, you can’t. Tuples are immutable, so their contents cannot be changed after creation.\n",
        "\n",
        "### Q16. What is a nested dictionary, and give an example of its use case.\n",
        "  - A nested dictionary contains another dictionary as a value.\n",
        " - Example:\n",
        " - students = {\"Alice\": {\"age\": 25, \"grade\": \"A\"}}\n",
        " - Use case: Representing complex, hierarchical data like JSON.\n",
        "\n",
        "### Q17. Describe the time complexity of accessing elements in a dictionary.\n",
        "  - Accessing a value by key in a dictionary is on average O(1) due to the underlying hash table structure.\n",
        "\n",
        "### Q18. In what situations are lists preferred over dictionaries?\n",
        "  - When data order is important, when values are accessed by position/index, or when the structure doesn't need key-value pairs.\n",
        "\n",
        "### Q19. Why are dictionaries considered unordered, and how does that affect data retrieval?\n",
        "  - Prior to Python 3.7, dictionaries didn’t preserve order. Even now, key-based access doesn’t rely on order, so retrieval is based on keys, not position.\n",
        "\n",
        "### Q20. Explain the difference between a list and a dictionary in terms of data retrieval.\n",
        "  - Lists use indexes to access elements by position.\n",
        "  - Dictionaries use keys to access values directly, which is faster and more intuitive for labeled data."
      ],
      "metadata": {
        "id": "A4upm8iP0zE2"
      }
    },
    {
      "cell_type": "markdown",
      "source": [
        "# Practical Questions"
      ],
      "metadata": {
        "id": "5XERkD-105PV"
      }
    },
    {
      "cell_type": "markdown",
      "source": [
        "### Q1. Write a code to create a string with your name and print itP\n"
      ],
      "metadata": {
        "id": "LlowOkFF7L7a"
      }
    },
    {
      "cell_type": "code",
      "source": [
        " s= \"Abhishek\"\n",
        " print(s)"
      ],
      "metadata": {
        "colab": {
          "base_uri": "https://localhost:8080/"
        },
        "id": "OWHvGZQF7fHY",
        "outputId": "ac8d78ea-8437-4f8e-d86f-e6cf0ab67016"
      },
      "execution_count": 1,
      "outputs": [
        {
          "output_type": "stream",
          "name": "stdout",
          "text": [
            "Abhishek\n"
          ]
        }
      ]
    },
    {
      "cell_type": "markdown",
      "source": [
        "### Q2. Write a code to find the length of the string \"Hello World\"\n"
      ],
      "metadata": {
        "id": "mc8OSpbl8aZm"
      }
    },
    {
      "cell_type": "code",
      "source": [
        "s= \"Hello World\"\n",
        "print( len(s))"
      ],
      "metadata": {
        "colab": {
          "base_uri": "https://localhost:8080/"
        },
        "id": "T73vMJzc8YmF",
        "outputId": "04c15b81-4099-4c33-b861-9c8c997219bb"
      },
      "execution_count": 2,
      "outputs": [
        {
          "output_type": "stream",
          "name": "stdout",
          "text": [
            "11\n"
          ]
        }
      ]
    },
    {
      "cell_type": "markdown",
      "source": [
        "### Q3. Write a code to slice the first 3 characters from the string \"Python Programming.\n"
      ],
      "metadata": {
        "id": "bCV6bV3u8qEe"
      }
    },
    {
      "cell_type": "code",
      "source": [
        "st= \"Python Programming.\"\n",
        "print(st[0:3])"
      ],
      "metadata": {
        "colab": {
          "base_uri": "https://localhost:8080/"
        },
        "id": "jXHzwwPI8wbO",
        "outputId": "591c6b6b-953a-4bcd-e199-cf6ed87c38ea"
      },
      "execution_count": 3,
      "outputs": [
        {
          "output_type": "stream",
          "name": "stdout",
          "text": [
            "Pyt\n"
          ]
        }
      ]
    },
    {
      "cell_type": "markdown",
      "source": [
        "### Q4. Write a code to convert the string \"hello\" to uppercase.\n"
      ],
      "metadata": {
        "id": "z6zsxArm80oJ"
      }
    },
    {
      "cell_type": "code",
      "source": [
        "ss =  \"hello\"\n",
        "print(ss.upper())"
      ],
      "metadata": {
        "colab": {
          "base_uri": "https://localhost:8080/"
        },
        "id": "DEjuo9Lw86WQ",
        "outputId": "580b4ae1-b904-4b3e-c323-4d6df12a9325"
      },
      "execution_count": 4,
      "outputs": [
        {
          "output_type": "stream",
          "name": "stdout",
          "text": [
            "HELLO\n"
          ]
        }
      ]
    },
    {
      "cell_type": "markdown",
      "source": [
        "### Q5. Write a code to replace the word \"apple\" with \"orange\" in the string \"I like apple\"."
      ],
      "metadata": {
        "id": "DZiksE2Q9Ddv"
      }
    },
    {
      "cell_type": "code",
      "source": [
        "text = \"I like apple\"\n",
        "new_text = text.replace(\"apple\", \"orange\")\n",
        "print(new_text)\n"
      ],
      "metadata": {
        "colab": {
          "base_uri": "https://localhost:8080/"
        },
        "id": "75SjmBAn9O8V",
        "outputId": "08d8d983-ef67-4f89-d8ec-0731c0311e10"
      },
      "execution_count": 5,
      "outputs": [
        {
          "output_type": "stream",
          "name": "stdout",
          "text": [
            "I like orange\n"
          ]
        }
      ]
    },
    {
      "cell_type": "markdown",
      "source": [
        "### Q6.  Write a code to create a list with numbers 1 to 5 and print it.\n"
      ],
      "metadata": {
        "id": "A0b-Pcpx9W5y"
      }
    },
    {
      "cell_type": "code",
      "source": [
        "li = [1,2,3,4,5]\n",
        "print(li)"
      ],
      "metadata": {
        "colab": {
          "base_uri": "https://localhost:8080/"
        },
        "id": "p99yv0A99clB",
        "outputId": "a339f94f-3eef-4036-8f7c-6f3b3698ddb3"
      },
      "execution_count": 6,
      "outputs": [
        {
          "output_type": "stream",
          "name": "stdout",
          "text": [
            "[1, 2, 3, 4, 5]\n"
          ]
        }
      ]
    },
    {
      "cell_type": "markdown",
      "source": [
        "### Q7. Write a code to append the number 10 to the list [1, 2, 3, 4].\n",
        "\n"
      ],
      "metadata": {
        "id": "j377vClB9gu7"
      }
    },
    {
      "cell_type": "code",
      "source": [
        "li=[1,2,3,4]\n",
        "li.append(10)\n",
        "print(li)"
      ],
      "metadata": {
        "colab": {
          "base_uri": "https://localhost:8080/"
        },
        "id": "_cpMgcXO93_x",
        "outputId": "f03fa1be-6214-439e-8ced-55482996e774"
      },
      "execution_count": 7,
      "outputs": [
        {
          "output_type": "stream",
          "name": "stdout",
          "text": [
            "[1, 2, 3, 4, 10]\n"
          ]
        }
      ]
    },
    {
      "cell_type": "markdown",
      "source": [
        "### Q8. Write a code to remove the number 3 from the list [1, 2, 3, 4, 5].\n"
      ],
      "metadata": {
        "id": "LE8tCYUE9_QL"
      }
    },
    {
      "cell_type": "code",
      "source": [
        "a = [1,2,3,4,5]\n",
        "\n",
        "a.remove(3)\n",
        "print(a)\n"
      ],
      "metadata": {
        "colab": {
          "base_uri": "https://localhost:8080/"
        },
        "id": "GSbBLfWJ-G-1",
        "outputId": "cf5ce326-7614-47fd-8c84-d78bec2dd0e8"
      },
      "execution_count": 10,
      "outputs": [
        {
          "output_type": "stream",
          "name": "stdout",
          "text": [
            "[1, 2, 4, 5]\n"
          ]
        }
      ]
    },
    {
      "cell_type": "markdown",
      "source": [
        "### Q9. Write a code to access the second element in the list ['a', 'b', 'c', 'd'].\n",
        "\n"
      ],
      "metadata": {
        "id": "1J_nO4wJ-jb5"
      }
    },
    {
      "cell_type": "code",
      "source": [
        "li= ['a', 'b', 'c', 'd']\n",
        "print(li[1])\n"
      ],
      "metadata": {
        "colab": {
          "base_uri": "https://localhost:8080/"
        },
        "id": "kBHj3y7z-qgf",
        "outputId": "52981df0-6c35-4602-9cf4-9259e01ee28d"
      },
      "execution_count": 11,
      "outputs": [
        {
          "output_type": "stream",
          "name": "stdout",
          "text": [
            "b\n"
          ]
        }
      ]
    },
    {
      "cell_type": "markdown",
      "source": [
        "### Q10. Write a code to reverse the list [10, 20, 30, 40, 50].\n",
        "li = [10, 20, 30, 40, 50]\n",
        "print(li[::-1])"
      ],
      "metadata": {
        "id": "rHQGLJ-G-_kq"
      }
    },
    {
      "cell_type": "code",
      "source": [
        "li = [10, 20, 30, 40, 50]\n",
        "print(li[::-1])"
      ],
      "metadata": {
        "colab": {
          "base_uri": "https://localhost:8080/"
        },
        "id": "q8Kh2yfN_K6f",
        "outputId": "860345e0-e664-432c-b1a6-4d99e3f4eee7"
      },
      "execution_count": 12,
      "outputs": [
        {
          "output_type": "stream",
          "name": "stdout",
          "text": [
            "[50, 40, 30, 20, 10]\n"
          ]
        }
      ]
    },
    {
      "cell_type": "markdown",
      "source": [
        "### Q11. Write a code to create a tuple with the elements 100, 200, 300 and print it.\n"
      ],
      "metadata": {
        "id": "Uv5RSmD6_Rbo"
      }
    },
    {
      "cell_type": "code",
      "source": [
        "\n",
        "tup=(100,200,300)\n",
        "print(tup)\n",
        "print(type(tup))"
      ],
      "metadata": {
        "id": "h7aA1W2V_XIw",
        "colab": {
          "base_uri": "https://localhost:8080/"
        },
        "outputId": "a6579c8c-464e-4034-d248-d53e96752778"
      },
      "execution_count": 14,
      "outputs": [
        {
          "output_type": "stream",
          "name": "stdout",
          "text": [
            "(100, 200, 300)\n",
            "<class 'tuple'>\n"
          ]
        }
      ]
    },
    {
      "cell_type": "markdown",
      "source": [
        "### Q12. Write a code to access the second-to-last element of the tuple ('red', 'green', 'blue', 'yellow').\n",
        "\n"
      ],
      "metadata": {
        "id": "FAJIXnpk_eMp"
      }
    },
    {
      "cell_type": "code",
      "source": [
        "tup = ('red', 'green', 'blue', 'yellow')\n",
        "print(tup[-2])"
      ],
      "metadata": {
        "id": "yegJ7tNE_ntY",
        "colab": {
          "base_uri": "https://localhost:8080/"
        },
        "outputId": "4abc5e0c-f598-45f4-b6cd-f56d66c27148"
      },
      "execution_count": 15,
      "outputs": [
        {
          "output_type": "stream",
          "name": "stdout",
          "text": [
            "blue\n"
          ]
        }
      ]
    },
    {
      "cell_type": "markdown",
      "source": [
        "### Q13. Write a code to find the minimum number in the tuple (10, 20, 5, 15).\n"
      ],
      "metadata": {
        "id": "3472Dck3_tQW"
      }
    },
    {
      "cell_type": "code",
      "source": [
        "tup = (10, 20, 5, 15)\n",
        "s=min(tup)\n",
        "print(s)"
      ],
      "metadata": {
        "id": "JefkBnso_zsP",
        "colab": {
          "base_uri": "https://localhost:8080/"
        },
        "outputId": "9cad3921-ac9e-43a3-9b31-14640d6af00e"
      },
      "execution_count": 17,
      "outputs": [
        {
          "output_type": "stream",
          "name": "stdout",
          "text": [
            "5\n"
          ]
        }
      ]
    },
    {
      "cell_type": "markdown",
      "source": [
        "### Q14. Write a code to find the index of the element \"cat\" in the tuple ('dog', 'cat', 'rabbit').\n",
        "\n",
        "\n"
      ],
      "metadata": {
        "id": "azOl37X3_7fp"
      }
    },
    {
      "cell_type": "code",
      "source": [
        "tup = ('dog', 'cat', 'rabbit')\n",
        "print(tup.index(\"cat\"))"
      ],
      "metadata": {
        "id": "-Ew7GjnbACRq",
        "colab": {
          "base_uri": "https://localhost:8080/"
        },
        "outputId": "bb384afd-4440-4cb4-8cdf-e0ffd5a665be"
      },
      "execution_count": 19,
      "outputs": [
        {
          "output_type": "stream",
          "name": "stdout",
          "text": [
            "1\n"
          ]
        }
      ]
    },
    {
      "cell_type": "markdown",
      "source": [
        "### Q15. Write a code to create a tuple containing three different fruits and check if \"kiwi\" is in it.\n"
      ],
      "metadata": {
        "id": "lEYZQrT2AIH8"
      }
    },
    {
      "cell_type": "code",
      "source": [
        "fut = (\"kiwi\",\"mango\",\"peach\")\n",
        "if(\"kiwi\" in fut):\n",
        "    print(\"Kiwi is in the tuple\")\n",
        "else:\n",
        "    print(\"Kiwi is not found\")"
      ],
      "metadata": {
        "colab": {
          "base_uri": "https://localhost:8080/"
        },
        "id": "uygm4F6AAOz6",
        "outputId": "95617b8d-a9bd-462e-b411-972673f79740"
      },
      "execution_count": 20,
      "outputs": [
        {
          "output_type": "stream",
          "name": "stdout",
          "text": [
            "Kiwi is in the tuple\n"
          ]
        }
      ]
    },
    {
      "cell_type": "markdown",
      "source": [
        "### Q16. Write a code to create a set with the elements 'a', 'b', 'c' and print it.\n",
        "\n"
      ],
      "metadata": {
        "id": "YEfqT6rg5pUC"
      }
    },
    {
      "cell_type": "code",
      "source": [
        "s = {'a','b','c'}\n",
        "print(s)\n",
        "print(type(s))"
      ],
      "metadata": {
        "colab": {
          "base_uri": "https://localhost:8080/"
        },
        "id": "oAuaME8t6IHB",
        "outputId": "aba49717-7ad3-4dc3-df96-132d57b1ceb8"
      },
      "execution_count": 21,
      "outputs": [
        {
          "output_type": "stream",
          "name": "stdout",
          "text": [
            "{'a', 'b', 'c'}\n",
            "<class 'set'>\n"
          ]
        }
      ]
    },
    {
      "cell_type": "markdown",
      "source": [
        "### Q17. Write a code to clear all elements from the set {1, 2, 3, 4, 5}.\n",
        "\n",
        "s= {1, 2, 3, 4, 5}\n",
        "s.clear()\n",
        "print(s)"
      ],
      "metadata": {
        "id": "gvMihX6e6Lee"
      }
    },
    {
      "cell_type": "code",
      "source": [
        "s= {1, 2, 3, 4, 5}\n",
        "s.clear()\n",
        "print(s)"
      ],
      "metadata": {
        "colab": {
          "base_uri": "https://localhost:8080/"
        },
        "id": "uEJ7cf_M6MKd",
        "outputId": "343e2726-145f-4ae2-d9f9-a7fdeec7ce43"
      },
      "execution_count": 22,
      "outputs": [
        {
          "output_type": "stream",
          "name": "stdout",
          "text": [
            "set()\n"
          ]
        }
      ]
    },
    {
      "cell_type": "markdown",
      "source": [
        "### Q18. Write a code to remove the element 4 from the set {1, 2, 3, 4}.\n",
        "\n"
      ],
      "metadata": {
        "id": "0IIEain26epV"
      }
    },
    {
      "cell_type": "code",
      "source": [
        "s = {1, 2, 3, 4}\n",
        "s.remove(4)\n",
        "print(s)"
      ],
      "metadata": {
        "colab": {
          "base_uri": "https://localhost:8080/"
        },
        "id": "VYWEjseK6fCg",
        "outputId": "870919f8-344f-4854-db93-ff5f6476a46d"
      },
      "execution_count": 24,
      "outputs": [
        {
          "output_type": "stream",
          "name": "stdout",
          "text": [
            "{1, 2, 3}\n"
          ]
        }
      ]
    },
    {
      "cell_type": "markdown",
      "source": [
        "### Q19. Write a code to find the union of two sets {1, 2, 3} and {3, 4, 5}.\n",
        "\n",
        "\n",
        "\n",
        "---\n",
        "\n"
      ],
      "metadata": {
        "id": "79aQlGyy6vvv"
      }
    },
    {
      "cell_type": "code",
      "source": [
        "a = {1, 2, 3}\n",
        "b = {3, 4, 5}\n",
        "c = a | b\n",
        "print(c)"
      ],
      "metadata": {
        "colab": {
          "base_uri": "https://localhost:8080/"
        },
        "id": "gCO33Jhp6-VX",
        "outputId": "5a45748c-032b-45bd-cf2c-2c9596e6c4fd"
      },
      "execution_count": 25,
      "outputs": [
        {
          "output_type": "stream",
          "name": "stdout",
          "text": [
            "{1, 2, 3, 4, 5}\n"
          ]
        }
      ]
    },
    {
      "cell_type": "markdown",
      "source": [
        "### Q20. Write a code to find the intersection of two sets {1, 2, 3} and {2, 3, 4}.\n",
        "\n"
      ],
      "metadata": {
        "id": "NJ1oD92z7Mk5"
      }
    },
    {
      "cell_type": "code",
      "source": [
        "a = {1, 2, 3}\n",
        "b = {2, 3, 4}\n",
        "c = a & b\n",
        "print(c)"
      ],
      "metadata": {
        "colab": {
          "base_uri": "https://localhost:8080/"
        },
        "id": "cvZWDmsr7bdV",
        "outputId": "67ec55e3-d176-46ac-97ff-460d3f0d8ae1"
      },
      "execution_count": 26,
      "outputs": [
        {
          "output_type": "stream",
          "name": "stdout",
          "text": [
            "{2, 3}\n"
          ]
        }
      ]
    },
    {
      "cell_type": "markdown",
      "source": [
        "### Q21. Write a code to create a dictionary with the keys \"name\", \"age\", and \"city\", and print it.\n"
      ],
      "metadata": {
        "id": "d-N9vZ4w7daM"
      }
    },
    {
      "cell_type": "code",
      "source": [
        "person = {\n",
        "    \"name\": \"Alice\",\n",
        "    \"age\": 30,\n",
        "    \"city\": \"New York\"\n",
        "}\n",
        "\n",
        "print(person)\n"
      ],
      "metadata": {
        "id": "nVC2m5Ou74tY"
      },
      "execution_count": null,
      "outputs": []
    },
    {
      "cell_type": "markdown",
      "source": [
        "### Q22. Write a code to add a new key-value pair \"country\": \"USA\" to the dictionary {'name': 'John', 'age': 25}."
      ],
      "metadata": {
        "id": "3DcXn8RB75tN"
      }
    },
    {
      "cell_type": "code",
      "source": [
        "person = {'name': 'John', 'age': 25}\n",
        "person['country'] = 'USA'\n",
        "print(person)\n"
      ],
      "metadata": {
        "colab": {
          "base_uri": "https://localhost:8080/"
        },
        "id": "tH-NHq6R7-dt",
        "outputId": "7fae73c8-975e-432d-8480-f6f426a0d516"
      },
      "execution_count": 27,
      "outputs": [
        {
          "output_type": "stream",
          "name": "stdout",
          "text": [
            "{'name': 'John', 'age': 25, 'country': 'USA'}\n"
          ]
        }
      ]
    },
    {
      "cell_type": "markdown",
      "source": [
        "### Q23. Write a code to access the value associated with the key \"name\" in the dictionary {'name': 'Alice', 'age': 30}.**bold text**"
      ],
      "metadata": {
        "id": "a45sXxoU8BCI"
      }
    },
    {
      "cell_type": "code",
      "source": [
        "data = {'name': 'Alice', 'age': 30}\n",
        "print(data['name'])\n"
      ],
      "metadata": {
        "id": "nUcdqzHl8TWN"
      },
      "execution_count": null,
      "outputs": []
    },
    {
      "cell_type": "markdown",
      "source": [
        "### Q24. Write a code to remove the key \"age\" from the dictionary {'name': 'Bob', 'age': 22, 'city': 'New York'}.\n"
      ],
      "metadata": {
        "id": "iK_er2h98VuP"
      }
    },
    {
      "cell_type": "code",
      "source": [
        "person = {'name': 'Bob', 'age': 22, 'city': 'New York'}\n",
        "del person['age']\n",
        "print(person)\n"
      ],
      "metadata": {
        "id": "hUJ7ctmZ8cMS"
      },
      "execution_count": null,
      "outputs": []
    },
    {
      "cell_type": "markdown",
      "source": [
        "### Q25. Write a code to check if the key \"city\" exists in the dictionary {'name': 'Alice', 'city': 'Paris'}."
      ],
      "metadata": {
        "id": "Bfzdocq58d8h"
      }
    },
    {
      "cell_type": "code",
      "source": [
        "info = {'name': 'Alice', 'city': 'Paris'}\n",
        "if 'city' in info:\n",
        "    print(\"Key 'city' exists in the dictionary.\")\n",
        "else:\n",
        "    print(\"Key 'city' does not exist.\")\n"
      ],
      "metadata": {
        "id": "hNSaz4NX8rXG"
      },
      "execution_count": null,
      "outputs": []
    },
    {
      "cell_type": "markdown",
      "source": [
        "### Q26. Write a code to create a list, a tuple, and a dictionary, and print them all."
      ],
      "metadata": {
        "id": "aI53S7PD8sNJ"
      }
    },
    {
      "cell_type": "code",
      "source": [
        "my_list = [1, 2, 3]\n",
        "my_tuple = (4, 5, 6)\n",
        "my_dict = {'a': 1, 'b': 2}\n",
        "\n",
        "print(\"List:\", my_list)\n",
        "print(\"Tuple:\", my_tuple)\n",
        "print(\"Dictionary:\", my_dict)\n"
      ],
      "metadata": {
        "id": "SDVS5qSQ8xL4"
      },
      "execution_count": null,
      "outputs": []
    },
    {
      "cell_type": "markdown",
      "source": [
        "### 27. Write a code to create a list of 5 random numbers between 1 and 100, sort it in ascending order, and print the result.(replaced)\n",
        "\n",
        "\n",
        "\n",
        "    "
      ],
      "metadata": {
        "id": "tZyXkq_W82CQ"
      }
    },
    {
      "cell_type": "code",
      "source": [
        "li = [57, 99, 21, 60, 15]\n",
        "li.sort()\n",
        "print(li)\n"
      ],
      "metadata": {
        "colab": {
          "base_uri": "https://localhost:8080/"
        },
        "id": "NbgdOYg29qXC",
        "outputId": "35ea25bb-dbc4-4f43-ced7-3199d9bf67c0"
      },
      "execution_count": 30,
      "outputs": [
        {
          "output_type": "stream",
          "name": "stdout",
          "text": [
            "[15, 21, 57, 60, 99]\n"
          ]
        }
      ]
    },
    {
      "cell_type": "markdown",
      "source": [
        "### Q28. Write a code to create a list with strings and print the element at the third index.\n"
      ],
      "metadata": {
        "id": "qt3-Xn96-My_"
      }
    },
    {
      "cell_type": "code",
      "source": [
        "\n",
        "li =[\"andy\", \"jim\", \"pan\", \"michle\" ,\"dwight\"]\n",
        "print(li[3])"
      ],
      "metadata": {
        "colab": {
          "base_uri": "https://localhost:8080/"
        },
        "id": "eVHjt7HX-q8l",
        "outputId": "8378090f-0358-4698-bfb3-e207a3bacd2d"
      },
      "execution_count": 31,
      "outputs": [
        {
          "output_type": "stream",
          "name": "stdout",
          "text": [
            "michle\n"
          ]
        }
      ]
    },
    {
      "cell_type": "markdown",
      "source": [
        "### Q29. Write a code to combine two dictionaries into one and print the result.\n",
        "\n"
      ],
      "metadata": {
        "id": "ln1w5Dd2-xy8"
      }
    },
    {
      "cell_type": "code",
      "source": [
        "dict1 = {'a': 1, 'b': 2}\n",
        "dict2 = {'c': 3, 'd': 4}\n",
        "\n",
        "dict1.update(dict2)\n",
        "print(\"Combined dictionary:\", dict1)\n"
      ],
      "metadata": {
        "id": "97z6F6Qk-49N"
      },
      "execution_count": null,
      "outputs": []
    },
    {
      "cell_type": "markdown",
      "source": [
        "### Q30. Write a code to convert a list of strings into a set."
      ],
      "metadata": {
        "id": "pViVSbkq-5b0"
      }
    },
    {
      "cell_type": "code",
      "source": [
        "li = [1,2,3,4,5,6]\n",
        "print(type(li))\n",
        "s=set(li)\n",
        "print(s)\n",
        "print(type(s))"
      ],
      "metadata": {
        "colab": {
          "base_uri": "https://localhost:8080/"
        },
        "id": "KqDhWN9n_DzT",
        "outputId": "93f5b3f2-a82b-4a1f-b49e-e20ce44171bd"
      },
      "execution_count": 35,
      "outputs": [
        {
          "output_type": "stream",
          "name": "stdout",
          "text": [
            "<class 'list'>\n",
            "{1, 2, 3, 4, 5, 6}\n",
            "<class 'set'>\n"
          ]
        }
      ]
    }
  ]
}